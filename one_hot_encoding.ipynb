{
 "cells": [
  {
   "cell_type": "code",
   "execution_count": 1,
   "metadata": {
    "collapsed": true
   },
   "outputs": [],
   "source": [
    "from sklearn.preprocessing import OneHotEncoder"
   ]
  },
  {
   "cell_type": "code",
   "execution_count": 2,
   "outputs": [],
   "source": [
    "import pandas as pd\n",
    "from sklearn.model_selection import train_test_split\n",
    "\n",
    "# Read data\n",
    "data = pd.read_csv(\"./csv/melb_data.csv\")\n",
    "\n",
    "y = data.Price\n",
    "X = data.drop(['Price'], axis=1)\n",
    "\n",
    "X_train, X_test, y_train, y_test = train_test_split(X, y, train_size=0.8, test_size=0.2)"
   ],
   "metadata": {
    "collapsed": false
   }
  },
  {
   "cell_type": "code",
   "execution_count": 7,
   "outputs": [],
   "source": [
    "# drop column with missing values\n",
    "cols_with_missing_value = [col for col in X_train.columns if X_train[col].isnull().any()]\n",
    "X_train = X_train.drop(cols_with_missing_value, axis=1)\n",
    "X_test = X_test.drop(cols_with_missing_value, axis=1)"
   ],
   "metadata": {
    "collapsed": false
   }
  },
  {
   "cell_type": "markdown",
   "source": [
    "Find categorical columns with low cardinality, drop the others"
   ],
   "metadata": {
    "collapsed": false
   }
  },
  {
   "cell_type": "code",
   "execution_count": 10,
   "outputs": [],
   "source": [
    "# low cardinality categorical columns\n",
    "low_cardinality_cols = [col for col in X_train.columns if X_train[col].nunique() < 10 and X_train[col].dtype == 'object']\n",
    "\n",
    "# numerical columns\n",
    "numerical_dtypes = ['int64', 'float64']\n",
    "numerical_cols = [col for col in X_train.columns if X_train[col].dtype in numerical_dtypes]\n",
    "\n",
    "# keep only these two kinds of columns\n",
    "final_cols = low_cardinality_cols + numerical_cols\n",
    "X_train = X_train[final_cols].copy()\n",
    "X_test = X_test[final_cols].copy()"
   ],
   "metadata": {
    "collapsed": false
   }
  },
  {
   "cell_type": "markdown",
   "source": [
    "To get a list of Categorical variables"
   ],
   "metadata": {
    "collapsed": false
   }
  },
  {
   "cell_type": "code",
   "execution_count": 11,
   "outputs": [
    {
     "name": "stdout",
     "output_type": "stream",
     "text": [
      "['Type', 'Method', 'Regionname']\n"
     ]
    }
   ],
   "source": [
    "s = (X_train.dtypes == 'object')\n",
    "object_cols = list(s[s].index)\n",
    "\n",
    "print(object_cols)"
   ],
   "metadata": {
    "collapsed": false
   }
  },
  {
   "cell_type": "markdown",
   "source": [
    "One Hot Encoder"
   ],
   "metadata": {
    "collapsed": false
   }
  },
  {
   "cell_type": "code",
   "execution_count": 14,
   "outputs": [
    {
     "name": "stderr",
     "output_type": "stream",
     "text": [
      "/Users/allynbao/miniconda3/envs/tensorflow_2.9/lib/python3.10/site-packages/sklearn/preprocessing/_encoders.py:868: FutureWarning: `sparse` was renamed to `sparse_output` in version 1.2 and will be removed in 1.4. `sparse_output` is ignored unless you leave `sparse` to its default value.\n",
      "  warnings.warn(\n"
     ]
    }
   ],
   "source": [
    "OH_encoder = OneHotEncoder(handle_unknown='ignore', sparse=False)\n",
    "# handle_unknown == 'ignore', treat unknown categories as zeros\n",
    "# sparse == True uses a Sparse matrix, False uses just an array\n",
    "\n",
    "# transform categorical cols to one-hot encoding\n",
    "OH_cols_train = pd.DataFrame(OH_encoder.fit_transform(X_train[object_cols]))\n",
    "OH_cols_test = pd.DataFrame(OH_encoder.transform(X_test[object_cols]))\n",
    "\n",
    "# add back the col labels / index\n",
    "OH_cols_train.index = X_train.index\n",
    "OH_cols_test.index = X_test.index\n",
    "\n",
    "# Remove the categorical columns\n",
    "X_train = X_train.drop(object_cols, axis=1)\n",
    "X_test = X_test.drop(object_cols, axis=1)\n",
    "\n",
    "# add in the one hot encoded categorical columns - CONCAT\n",
    "OH_X_train = pd.concat([X_train, OH_cols_train], axis=1)\n",
    "OH_X_test = pd.concat([X_test, OH_cols_test], axis=1)\n",
    "\n",
    "# Ensure all columns have string type\n",
    "OH_X_train.columns = OH_X_train.columns.astype(str)\n",
    "OH_X_test.columns = OH_X_test.columns.astype(str)"
   ],
   "metadata": {
    "collapsed": false
   }
  }
 ],
 "metadata": {
  "kernelspec": {
   "display_name": "Python 3",
   "language": "python",
   "name": "python3"
  },
  "language_info": {
   "codemirror_mode": {
    "name": "ipython",
    "version": 2
   },
   "file_extension": ".py",
   "mimetype": "text/x-python",
   "name": "python",
   "nbconvert_exporter": "python",
   "pygments_lexer": "ipython2",
   "version": "2.7.6"
  }
 },
 "nbformat": 4,
 "nbformat_minor": 0
}
